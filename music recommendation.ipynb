{
 "cells": [
  {
   "cell_type": "code",
   "execution_count": 36,
   "id": "c45568b4",
   "metadata": {},
   "outputs": [
    {
     "name": "stderr",
     "output_type": "stream",
     "text": [
      "C:\\Users\\Divya DJ\\AppData\\Local\\Temp\\ipykernel_10564\\3542614056.py:14: SettingWithCopyWarning: \n",
      "A value is trying to be set on a copy of a slice from a DataFrame.\n",
      "Try using .loc[row_indexer,col_indexer] = value instead\n",
      "\n",
      "See the caveats in the documentation: https://pandas.pydata.org/pandas-docs/stable/user_guide/indexing.html#returning-a-view-versus-a-copy\n",
      "  topc[i] = topc[i] / topc[i].abs().max()\n"
     ]
    },
    {
     "name": "stdout",
     "output_type": "stream",
     "text": [
      "(603, 7) (1556, 7)\n"
     ]
    }
   ],
   "source": [
    "import pandas as pd\n",
    "import numpy as np\n",
    "sp = pd.read_csv(r\"C:\\Users\\Divya DJ\\Downloads\\spotify_dataset.csv\")\n",
    "top = pd.read_excel(r\"C:\\Users\\Divya DJ\\Downloads\\top10.xlsx\")\n",
    "top.dropna(inplace = True)\n",
    "sp.dropna(inplace = True)\n",
    "spc = sp[['Danceability', 'Energy', 'Loudness', 'Speechiness', 'Acousticness','Liveness', 'Valence']]\n",
    "spc = spc.apply(pd.to_numeric,errors = 'coerce')\n",
    "spc = spc[['Danceability', 'Energy', 'Loudness', 'Speechiness', 'Acousticness','Liveness', 'Valence']].astype(float)\n",
    "topc = top[[ 'dnce', 'nrgy', 'dB','spch', 'acous', 'live', 'val']]\n",
    "sp.drop(['Danceability', 'Energy', 'Loudness', 'Speechiness', 'Acousticness','Liveness', 'Valence'],axis = 1,inplace = True)\n",
    "top.drop([ 'dnce', 'nrgy', 'dB','spch', 'acous', 'live', 'val'],axis = 1,inplace = True)\n",
    "for i in topc[[ 'dnce', 'nrgy','spch', 'acous', 'live', 'val']]:\n",
    "    topc[i] = topc[i] / topc[i].abs().max()\n",
    "sp['Song Name'] = sp['Song Name'].str.lower()\n",
    "top['title'] = top['title'].str.lower()\n",
    "sp['Artist'] = sp['Artist'].str.lower()\n",
    "top['artist'] = top['artist'].str.lower()\n",
    "top.fillna('0',inplace = True)\n",
    "print(topc.shape,spc.shape)"
   ]
  },
  {
   "cell_type": "code",
   "execution_count": 58,
   "id": "32564089",
   "metadata": {},
   "outputs": [
    {
     "name": "stdout",
     "output_type": "stream",
     "text": [
      "This song recommender works for all popular english songs from 2010 to 2019\n",
      "Enter a song name you listen:dusk till dawn\n",
      "Your favourite artist:zayn\n",
      "Genre you like:hip hop\n"
     ]
    },
    {
     "name": "stderr",
     "output_type": "stream",
     "text": [
      "C:\\Users\\Divya DJ\\AppData\\Local\\Temp\\ipykernel_10564\\1838453555.py:17: FutureWarning: The frame.append method is deprecated and will be removed from pandas in a future version. Use pandas.concat instead.\n",
      "  spp = spp.append(s.head(3))\n",
      "C:\\Users\\Divya DJ\\AppData\\Local\\Temp\\ipykernel_10564\\1838453555.py:27: FutureWarning: The frame.append method is deprecated and will be removed from pandas in a future version. Use pandas.concat instead.\n",
      "  topp = topp.append(s.sample(3))\n"
     ]
    }
   ],
   "source": [
    "print(\"This song recommender works for all popular english songs from 2010 to 2019\")\n",
    "song = str(input(\"Enter a song name you listen:\"))\n",
    "artist = str(input(\"Your favourite artist:\"))\n",
    "genre = str(input(\"Genre you like:\"))\n",
    "genre = genre.lower()\n",
    "artist = artist.lower()\n",
    "song = song.lower()\n",
    "s = sp[sp['Artist'] == artist].sort_values(by = ['Streams'],ascending = False)\n",
    "if(len(s.index) < 3):\n",
    "    spp = s.head(len(s.index))\n",
    "else:\n",
    "    spp = s.head(3)\n",
    "s = sp[sp['Genre'].str.contains(genre)].sort_values(by = ['Streams'],ascending = False)\n",
    "if(len(s.index) < 3):\n",
    "    spp = spp.append(s.head(len(s.index)))\n",
    "else:\n",
    "    spp = spp.append(s.head(3))   \n",
    "s =  top[top['artist'] == artist]\n",
    "if(len(s.index) < 3):\n",
    "    topp = s.sample(len(s.index))\n",
    "else:\n",
    "    topp = s.sample(3)  \n",
    "s = top[top['top genre'].str.contains(genre)]\n",
    "if(len(s.index) < 3):\n",
    "    topp = topp.append(s.sample(len(s.index)))\n",
    "else:\n",
    "     topp = topp.append(s.sample(3))           \n",
    "spp = spp.sort_values(by=['Streams'],ascending = False)\n",
    "e = 0\n",
    "if((len(spp.index) == 0) or (len(topp.index) == 0)):\n",
    "    print(\"Give genre and artist as per the constraints!\")\n",
    "    e = 1"
   ]
  },
  {
   "cell_type": "code",
   "execution_count": 59,
   "id": "6749e9a7",
   "metadata": {},
   "outputs": [
    {
     "name": "stdout",
     "output_type": "stream",
     "text": [
      "[0.6268, 0.6305999999999999, -5.7942, 0.2392, 0.29766, 0.209, 0.49354] [0.7044673539518901, 0.70578231292517, -5.333333333333333, 0.18055555555555558, 0.1447811447811448, 0.2725225225225225, 0.3707482993197279]\n"
     ]
    }
   ],
   "source": [
    "a = sp[sp['Song Name'] == (song)].index\n",
    "b = top[top['title'] == (song)].index\n",
    "spcp = []\n",
    "topcp = []\n",
    "if(len(a)):\n",
    "    spcp = list(spc.loc[a[0]])\n",
    "elif(e == 0): \n",
    "    spcp = spc.loc[spp.index]\n",
    "    spcp = list(spcp.mean())\n",
    "if(len(b)):\n",
    "    topcp = list(topc.loc[b[0]])\n",
    "elif(e == 0):    \n",
    "    topcp = topc.loc[topp.index]\n",
    "    topcp = list(topcp.mean())    \n",
    "if((len(spcp) == 0 or len(topcp) == 0) and (e == 1)):\n",
    "    print(\"Provide valid song name also!\")\n",
    "    exit()\n",
    "print(spcp,topcp)    "
   ]
  },
  {
   "cell_type": "code",
   "execution_count": 60,
   "id": "88c9b092",
   "metadata": {},
   "outputs": [
    {
     "name": "stdout",
     "output_type": "stream",
     "text": [
      "songs you may like:\n",
      "time flies\n",
      "hot wind blows (feat. lil wayne)\n",
      "nicky jam: bzrp music sessions, vol. 41\n",
      "pillowtalk\n",
      "fancy\n",
      "let me\n",
      "i don't do drugs (feat. ariana grande)\n",
      "jolie nana\n",
      "living for love\n",
      "wolves\n"
     ]
    }
   ],
   "source": [
    "import random\n",
    "def mink_dis(a,b,p = 1):\n",
    "    dim = len(a)\n",
    "    dis = 0\n",
    "    for d in range(dim):\n",
    "        dis += abs(a[d] - b[d])**p\n",
    "    dis = dis**(1/p)\n",
    "    return dis\n",
    "dist = []\n",
    "for i in spc.index:\n",
    "    dist.append(mink_dis(spcp,spc.iloc[i]))\n",
    "spc_dists = pd.DataFrame(data=dist,index=spc.index,columns=['dist'])\n",
    "spc_dists = spc_dists.sort_values(by=['dist'],axis = 0)[2:4]\n",
    "dist = []\n",
    "for i in topc.index:\n",
    "    dist.append(mink_dis(topcp,topc.iloc[i]))\n",
    "topc_dists = pd.DataFrame(data=dist,index=topc.index,columns=['dist'])\n",
    "topc_dists = topc_dists.sort_values(by=['dist'],axis = 0)[2:4]\n",
    "sp_final = sp.loc[spc_dists.index]\n",
    "top_final = top.loc[topc_dists.index]\n",
    "print(\"songs you may like:\")\n",
    "l = []\n",
    "if(len(spp.index) < 3):\n",
    "    l.append(spp['Song Name'].head(len(spp.index)))\n",
    "else:\n",
    "    l.append(spp['Song Name'].head(3))\n",
    "if(len(topp.index ) < 3):    \n",
    "    l.append(random.sample(sorted(topp['title']),len(topp.index)))\n",
    "else:\n",
    "    l.append(random.sample(sorted(topp['title']),3))\n",
    "l.append(list(sp_final['Song Name'].values))\n",
    "l.append(list(top_final['title'].values))\n",
    "for i in l:\n",
    "    for j in i:\n",
    "        print(j)"
   ]
  },
  {
   "cell_type": "markdown",
   "id": "af54bf56",
   "metadata": {},
   "source": [
    "print(spp[['Song Name','Artist','Genre']])\n",
    "print(sp_final[['Song Name','Artist',\"Genre\"]])\n",
    "print(topp[['title','artist','top genre']])\n",
    "print(top_final[['title','artist','top genre']])\n"
   ]
  },
  {
   "cell_type": "code",
   "execution_count": 67,
   "id": "87756bb9",
   "metadata": {},
   "outputs": [
    {
     "data": {
      "text/html": [
       "<div>\n",
       "<style scoped>\n",
       "    .dataframe tbody tr th:only-of-type {\n",
       "        vertical-align: middle;\n",
       "    }\n",
       "\n",
       "    .dataframe tbody tr th {\n",
       "        vertical-align: top;\n",
       "    }\n",
       "\n",
       "    .dataframe thead th {\n",
       "        text-align: right;\n",
       "    }\n",
       "</style>\n",
       "<table border=\"1\" class=\"dataframe\">\n",
       "  <thead>\n",
       "    <tr style=\"text-align: right;\">\n",
       "      <th></th>\n",
       "      <th>Song Name</th>\n",
       "      <th>Artist</th>\n",
       "      <th>Genre</th>\n",
       "    </tr>\n",
       "  </thead>\n",
       "  <tbody>\n",
       "    <tr>\n",
       "      <th>1197</th>\n",
       "      <td>time flies</td>\n",
       "      <td>drake</td>\n",
       "      <td>['canadian hip hop', 'canadian pop', 'hip hop'...</td>\n",
       "    </tr>\n",
       "    <tr>\n",
       "      <th>257</th>\n",
       "      <td>hot wind blows (feat. lil wayne)</td>\n",
       "      <td>tyler, the creator</td>\n",
       "      <td>['hip hop', 'rap']</td>\n",
       "    </tr>\n",
       "    <tr>\n",
       "      <th>50</th>\n",
       "      <td>nicky jam: bzrp music sessions, vol. 41</td>\n",
       "      <td>bizarrap, nicky jam</td>\n",
       "      <td>['argentine hip hop', 'pop venezolano', 'trap ...</td>\n",
       "    </tr>\n",
       "  </tbody>\n",
       "</table>\n",
       "</div>"
      ],
      "text/plain": [
       "                                    Song Name               Artist  \\\n",
       "1197                               time flies                drake   \n",
       "257          hot wind blows (feat. lil wayne)   tyler, the creator   \n",
       "50    nicky jam: bzrp music sessions, vol. 41  bizarrap, nicky jam   \n",
       "\n",
       "                                                  Genre  \n",
       "1197  ['canadian hip hop', 'canadian pop', 'hip hop'...  \n",
       "257                                  ['hip hop', 'rap']  \n",
       "50    ['argentine hip hop', 'pop venezolano', 'trap ...  "
      ]
     },
     "execution_count": 67,
     "metadata": {},
     "output_type": "execute_result"
    }
   ],
   "source": [
    "spp[['Song Name','Artist','Genre']].head(3)"
   ]
  },
  {
   "cell_type": "code",
   "execution_count": 63,
   "id": "f50a0c12",
   "metadata": {},
   "outputs": [
    {
     "data": {
      "text/html": [
       "<div>\n",
       "<style scoped>\n",
       "    .dataframe tbody tr th:only-of-type {\n",
       "        vertical-align: middle;\n",
       "    }\n",
       "\n",
       "    .dataframe tbody tr th {\n",
       "        vertical-align: top;\n",
       "    }\n",
       "\n",
       "    .dataframe thead th {\n",
       "        text-align: right;\n",
       "    }\n",
       "</style>\n",
       "<table border=\"1\" class=\"dataframe\">\n",
       "  <thead>\n",
       "    <tr style=\"text-align: right;\">\n",
       "      <th></th>\n",
       "      <th>Song Name</th>\n",
       "      <th>Artist</th>\n",
       "      <th>Genre</th>\n",
       "    </tr>\n",
       "  </thead>\n",
       "  <tbody>\n",
       "    <tr>\n",
       "      <th>238</th>\n",
       "      <td>i don't do drugs (feat. ariana grande)</td>\n",
       "      <td>doja cat</td>\n",
       "      <td>['dance pop', 'pop']</td>\n",
       "    </tr>\n",
       "    <tr>\n",
       "      <th>958</th>\n",
       "      <td>jolie nana</td>\n",
       "      <td>aya nakamura</td>\n",
       "      <td>['basshall', 'francoton']</td>\n",
       "    </tr>\n",
       "  </tbody>\n",
       "</table>\n",
       "</div>"
      ],
      "text/plain": [
       "                                  Song Name        Artist  \\\n",
       "238  i don't do drugs (feat. ariana grande)      doja cat   \n",
       "958                              jolie nana  aya nakamura   \n",
       "\n",
       "                         Genre  \n",
       "238       ['dance pop', 'pop']  \n",
       "958  ['basshall', 'francoton']  "
      ]
     },
     "execution_count": 63,
     "metadata": {},
     "output_type": "execute_result"
    }
   ],
   "source": [
    "sp_final[['Song Name','Artist',\"Genre\"]]"
   ]
  },
  {
   "cell_type": "code",
   "execution_count": 66,
   "id": "75cde73d",
   "metadata": {},
   "outputs": [
    {
     "data": {
      "text/html": [
       "<div>\n",
       "<style scoped>\n",
       "    .dataframe tbody tr th:only-of-type {\n",
       "        vertical-align: middle;\n",
       "    }\n",
       "\n",
       "    .dataframe tbody tr th {\n",
       "        vertical-align: top;\n",
       "    }\n",
       "\n",
       "    .dataframe thead th {\n",
       "        text-align: right;\n",
       "    }\n",
       "</style>\n",
       "<table border=\"1\" class=\"dataframe\">\n",
       "  <thead>\n",
       "    <tr style=\"text-align: right;\">\n",
       "      <th></th>\n",
       "      <th>title</th>\n",
       "      <th>artist</th>\n",
       "      <th>top genre</th>\n",
       "    </tr>\n",
       "  </thead>\n",
       "  <tbody>\n",
       "    <tr>\n",
       "      <th>545</th>\n",
       "      <td>let me</td>\n",
       "      <td>zayn</td>\n",
       "      <td>dance pop</td>\n",
       "    </tr>\n",
       "    <tr>\n",
       "      <th>406</th>\n",
       "      <td>pillowtalk</td>\n",
       "      <td>zayn</td>\n",
       "      <td>dance pop</td>\n",
       "    </tr>\n",
       "    <tr>\n",
       "      <th>457</th>\n",
       "      <td>i don’t wanna live forever (fifty shades darker)</td>\n",
       "      <td>zayn</td>\n",
       "      <td>dance pop</td>\n",
       "    </tr>\n",
       "  </tbody>\n",
       "</table>\n",
       "</div>"
      ],
      "text/plain": [
       "                                                title artist  top genre\n",
       "545                                            let me   zayn  dance pop\n",
       "406                                        pillowtalk   zayn  dance pop\n",
       "457  i don’t wanna live forever (fifty shades darker)   zayn  dance pop"
      ]
     },
     "execution_count": 66,
     "metadata": {},
     "output_type": "execute_result"
    }
   ],
   "source": [
    "topp[['title','artist','top genre']].head(3)"
   ]
  },
  {
   "cell_type": "code",
   "execution_count": 65,
   "id": "19c4a761",
   "metadata": {},
   "outputs": [
    {
     "data": {
      "text/html": [
       "<div>\n",
       "<style scoped>\n",
       "    .dataframe tbody tr th:only-of-type {\n",
       "        vertical-align: middle;\n",
       "    }\n",
       "\n",
       "    .dataframe tbody tr th {\n",
       "        vertical-align: top;\n",
       "    }\n",
       "\n",
       "    .dataframe thead th {\n",
       "        text-align: right;\n",
       "    }\n",
       "</style>\n",
       "<table border=\"1\" class=\"dataframe\">\n",
       "  <thead>\n",
       "    <tr style=\"text-align: right;\">\n",
       "      <th></th>\n",
       "      <th>title</th>\n",
       "      <th>artist</th>\n",
       "      <th>top genre</th>\n",
       "    </tr>\n",
       "  </thead>\n",
       "  <tbody>\n",
       "    <tr>\n",
       "      <th>346</th>\n",
       "      <td>living for love</td>\n",
       "      <td>madonna</td>\n",
       "      <td>dance pop</td>\n",
       "    </tr>\n",
       "    <tr>\n",
       "      <th>516</th>\n",
       "      <td>wolves</td>\n",
       "      <td>selena gomez</td>\n",
       "      <td>dance pop</td>\n",
       "    </tr>\n",
       "  </tbody>\n",
       "</table>\n",
       "</div>"
      ],
      "text/plain": [
       "               title        artist  top genre\n",
       "346  living for love       madonna  dance pop\n",
       "516           wolves  selena gomez  dance pop"
      ]
     },
     "execution_count": 65,
     "metadata": {},
     "output_type": "execute_result"
    }
   ],
   "source": [
    "top_final[['title','artist','top genre']]"
   ]
  },
  {
   "cell_type": "code",
   "execution_count": 27,
   "id": "1492be44",
   "metadata": {},
   "outputs": [
    {
     "data": {
      "image/png": "[encoded data removed]",
      "text/plain": [
       "<Figure size 432x288 with 1 Axes>"
      ]
     },
     "metadata": {
      "needs_background": "light"
     },
     "output_type": "display_data"
    }
   ],
   "source": [
    "import matplotlib.pyplot as plt\n",
    "p = top.value_counts('year').to_frame()\n",
    "p = p.reset_index()\n",
    "p.columns = [\"year\",'count']\n",
    "plt.bar(p['year'],p['count'])\n",
    "plt.show()"
   ]
  },
  {
   "cell_type": "code",
   "execution_count": 28,
   "id": "477e28a6",
   "metadata": {},
   "outputs": [
    {
     "data": {
      "image/png": "[encoded data removed]",
      "text/plain": [
       "<Figure size 432x288 with 1 Axes>"
      ]
     },
     "metadata": {
      "needs_background": "light"
     },
     "output_type": "display_data"
    }
   ],
   "source": [
    "p = sp.value_counts('Popularity').to_frame()\n",
    "p = p.reset_index()\n",
    "p.columns = [\"pop\",'count']\n",
    "plt.bar(p['pop'],p['count'])\n",
    "plt.show()"
   ]
  },
  {
   "cell_type": "code",
   "execution_count": 75,
   "id": "82dde5e1",
   "metadata": {},
   "outputs": [
    {
     "name": "stdout",
     "output_type": "stream",
     "text": [
      "Enter a song:love yourself\n",
      "b5 [untitled] but i loved you\n",
      "sophie\n",
      "when you say nothing at all\n"
     ]
    }
   ],
   "source": [
    "new = pd.read_csv(r\"C:\\Users\\Divya DJ\\Desktop\\DSP\\archive\\song_data.csv\")\n",
    "new.columns\n",
    "song2 = input(\"Enter a song:\")\n",
    "song2 = song2.lower()\n",
    "new['song_name'] = new['song_name'].str.lower()\n",
    "new.drop(['Unnamed: 3',\"Unnamed: 12\"],axis = 1,inplace = True) \n",
    "newc = new[['danceability', 'energy', 'loudness', 'speechiness', 'acousticness','liveness', 'audio_valence']]\n",
    "p = new[new[\"song_name\"].str.contains(song2)].index\n",
    "if (len(p) == 0):\n",
    "    print(\"song not found\")\n",
    "point = list(newc.loc[p[0]])\n",
    "point\n",
    "dist = []\n",
    "for i in newc.index:\n",
    "    dist.append(mink_dis(point,newc.iloc[i]))\n",
    "newc_dists = pd.DataFrame(data=dist,index=newc.index,columns=['dist'])\n",
    "newc_dists = newc_dists.sort_values(by=['dist'],axis = 0)[1:4]\n",
    "for i in newc_dists.index:\n",
    "    print(new['song_name'].iloc[i])\n",
    "  \n",
    "    "
   ]
  },
  {
   "cell_type": "code",
   "execution_count": null,
   "id": "bffd4929",
   "metadata": {},
   "outputs": [],
   "source": []
  },
  {
   "cell_type": "code",
   "execution_count": null,
   "id": "59bb4187",
   "metadata": {},
   "outputs": [],
   "source": []
  }
 ],
 "metadata": {
  "kernelspec": {
   "display_name": "Python 3 (ipykernel)",
   "language": "python",
   "name": "python3"
  },
  "language_info": {
   "codemirror_mode": {
    "name": "ipython",
    "version": 3
   },
   "file_extension": ".py",
   "mimetype": "text/x-python",
   "name": "python",
   "nbconvert_exporter": "python",
   "pygments_lexer": "ipython3",
   "version": "3.9.12"
  }
 },
 "nbformat": 4,
 "nbformat_minor": 5
}
