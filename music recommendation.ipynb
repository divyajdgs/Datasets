{
 "cells": [
  {
   "cell_type": "code",
   "execution_count": 36,
   "id": "c45568b4",
   "metadata": {},
   "outputs": [
    {
     "name": "stderr",
     "output_type": "stream",
     "text": [
      "C:\\Users\\Divya DJ\\AppData\\Local\\Temp\\ipykernel_10564\\3542614056.py:14: SettingWithCopyWarning: \n",
      "A value is trying to be set on a copy of a slice from a DataFrame.\n",
      "Try using .loc[row_indexer,col_indexer] = value instead\n",
      "\n",
      "See the caveats in the documentation: https://pandas.pydata.org/pandas-docs/stable/user_guide/indexing.html#returning-a-view-versus-a-copy\n",
      "  topc[i] = topc[i] / topc[i].abs().max()\n"
     ]
    },
    {
     "name": "stdout",
     "output_type": "stream",
     "text": [
      "(603, 7) (1556, 7)\n"
     ]
    }
   ],
   "source": [
    "import pandas as pd\n",
    "import numpy as np\n",
    "sp = pd.read_csv(r\"C:\\Users\\Divya DJ\\Downloads\\spotify_dataset.csv\")\n",
    "top = pd.read_excel(r\"C:\\Users\\Divya DJ\\Downloads\\top10.xlsx\")\n",
    "top.dropna(inplace = True)\n",
    "sp.dropna(inplace = True)\n",
    "spc = sp[['Danceability', 'Energy', 'Loudness', 'Speechiness', 'Acousticness','Liveness', 'Valence']]\n",
    "spc = spc.apply(pd.to_numeric,errors = 'coerce')\n",
    "spc = spc[['Danceability', 'Energy', 'Loudness', 'Speechiness', 'Acousticness','Liveness', 'Valence']].astype(float)\n",
    "topc = top[[ 'dnce', 'nrgy', 'dB','spch', 'acous', 'live', 'val']]\n",
    "sp.drop(['Danceability', 'Energy', 'Loudness', 'Speechiness', 'Acousticness','Liveness', 'Valence'],axis = 1,inplace = True)\n",
    "top.drop([ 'dnce', 'nrgy', 'dB','spch', 'acous', 'live', 'val'],axis = 1,inplace = True)\n",
    "for i in topc[[ 'dnce', 'nrgy','spch', 'acous', 'live', 'val']]:\n",
    "    topc[i] = topc[i] / topc[i].abs().max()\n",
    "sp['Song Name'] = sp['Song Name'].str.lower()\n",
    "top['title'] = top['title'].str.lower()\n",
    "sp['Artist'] = sp['Artist'].str.lower()\n",
    "top['artist'] = top['artist'].str.lower()\n",
    "top.fillna('0',inplace = True)\n",
    "print(topc.shape,spc.shape)"
   ]
  },
  {
   "cell_type": "code",
   "execution_count": 58,
   "id": "32564089",
   "metadata": {},
   "outputs": [
    {
     "name": "stdout",
     "output_type": "stream",
     "text": [
      "This song recommender works for all popular english songs from 2010 to 2019\n",
      "Enter a song name you listen:dusk till dawn\n",
      "Your favourite artist:zayn\n",
      "Genre you like:hip hop\n"
     ]
    },
    {
     "name": "stderr",
     "output_type": "stream",
     "text": [
      "C:\\Users\\Divya DJ\\AppData\\Local\\Temp\\ipykernel_10564\\1838453555.py:17: FutureWarning: The frame.append method is deprecated and will be removed from pandas in a future version. Use pandas.concat instead.\n",
      "  spp = spp.append(s.head(3))\n",
      "C:\\Users\\Divya DJ\\AppData\\Local\\Temp\\ipykernel_10564\\1838453555.py:27: FutureWarning: The frame.append method is deprecated and will be removed from pandas in a future version. Use pandas.concat instead.\n",
      "  topp = topp.append(s.sample(3))\n"
     ]
    }
   ],
   "source": [
    "print(\"This song recommender works for all popular english songs from 2010 to 2019\")\n",
    "song = str(input(\"Enter a song name you listen:\"))\n",
    "artist = str(input(\"Your favourite artist:\"))\n",
    "genre = str(input(\"Genre you like:\"))\n",
    "genre = genre.lower()\n",
    "artist = artist.lower()\n",
    "song = song.lower()\n",
    "s = sp[sp['Artist'] == artist].sort_values(by = ['Streams'],ascending = False)\n",
    "if(len(s.index) < 3):\n",
    "    spp = s.head(len(s.index))\n",
    "else:\n",
    "    spp = s.head(3)\n",
    "s = sp[sp['Genre'].str.contains(genre)].sort_values(by = ['Streams'],ascending = False)\n",
    "if(len(s.index) < 3):\n",
    "    spp = spp.append(s.head(len(s.index)))\n",
    "else:\n",
    "    spp = spp.append(s.head(3))   \n",
    "s =  top[top['artist'] == artist]\n",
    "if(len(s.index) < 3):\n",
    "    topp = s.sample(len(s.index))\n",
    "else:\n",
    "    topp = s.sample(3)  \n",
    "s = top[top['top genre'].str.contains(genre)]\n",
    "if(len(s.index) < 3):\n",
    "    topp = topp.append(s.sample(len(s.index)))\n",
    "else:\n",
    "     topp = topp.append(s.sample(3))           \n",
    "spp = spp.sort_values(by=['Streams'],ascending = False)\n",
    "e = 0\n",
    "if((len(spp.index) == 0) or (len(topp.index) == 0)):\n",
    "    print(\"Give genre and artist as per the constraints!\")\n",
    "    e = 1"
   ]
  },
  {
   "cell_type": "code",
   "execution_count": 59,
   "id": "6749e9a7",
   "metadata": {},
   "outputs": [
    {
     "name": "stdout",
     "output_type": "stream",
     "text": [
      "[0.6268, 0.6305999999999999, -5.7942, 0.2392, 0.29766, 0.209, 0.49354] [0.7044673539518901, 0.70578231292517, -5.333333333333333, 0.18055555555555558, 0.1447811447811448, 0.2725225225225225, 0.3707482993197279]\n"
     ]
    }
   ],
   "source": [
    "a = sp[sp['Song Name'] == (song)].index\n",
    "b = top[top['title'] == (song)].index\n",
    "spcp = []\n",
    "topcp = []\n",
    "if(len(a)):\n",
    "    spcp = list(spc.loc[a[0]])\n",
    "elif(e == 0): \n",
    "    spcp = spc.loc[spp.index]\n",
    "    spcp = list(spcp.mean())\n",
    "if(len(b)):\n",
    "    topcp = list(topc.loc[b[0]])\n",
    "elif(e == 0):    \n",
    "    topcp = topc.loc[topp.index]\n",
    "    topcp = list(topcp.mean())    \n",
    "if((len(spcp) == 0 or len(topcp) == 0) and (e == 1)):\n",
    "    print(\"Provide valid song name also!\")\n",
    "    exit()\n",
    "print(spcp,topcp)    "
   ]
  },
  {
   "cell_type": "code",
   "execution_count": 60,
   "id": "88c9b092",
   "metadata": {},
   "outputs": [
    {
     "name": "stdout",
     "output_type": "stream",
     "text": [
      "songs you may like:\n",
      "time flies\n",
      "hot wind blows (feat. lil wayne)\n",
      "nicky jam: bzrp music sessions, vol. 41\n",
      "pillowtalk\n",
      "fancy\n",
      "let me\n",
      "i don't do drugs (feat. ariana grande)\n",
      "jolie nana\n",
      "living for love\n",
      "wolves\n"
     ]
    }
   ],
   
}
